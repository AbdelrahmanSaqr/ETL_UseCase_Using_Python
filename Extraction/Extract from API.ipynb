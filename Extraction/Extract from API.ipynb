{
 "cells": [
  {
   "cell_type": "code",
   "execution_count": 1,
   "id": "b84583a0",
   "metadata": {},
   "outputs": [],
   "source": [
    "import requests\n",
    "import json\n",
    "import pandas as pd\n",
    "import os"
   ]
  },
  {
   "cell_type": "code",
   "execution_count": 2,
   "id": "1c14e4f2",
   "metadata": {},
   "outputs": [
    {
     "data": {
      "text/html": [
       "<div>\n",
       "<style scoped>\n",
       "    .dataframe tbody tr th:only-of-type {\n",
       "        vertical-align: middle;\n",
       "    }\n",
       "\n",
       "    .dataframe tbody tr th {\n",
       "        vertical-align: top;\n",
       "    }\n",
       "\n",
       "    .dataframe thead th {\n",
       "        text-align: right;\n",
       "    }\n",
       "</style>\n",
       "<table border=\"1\" class=\"dataframe\">\n",
       "  <thead>\n",
       "    <tr style=\"text-align: right;\">\n",
       "      <th></th>\n",
       "      <th>disclaimer</th>\n",
       "      <th>license</th>\n",
       "      <th>timestamp</th>\n",
       "      <th>base</th>\n",
       "      <th>rates.AED</th>\n",
       "      <th>rates.AFN</th>\n",
       "      <th>rates.ALL</th>\n",
       "      <th>rates.AMD</th>\n",
       "      <th>rates.ANG</th>\n",
       "      <th>rates.AOA</th>\n",
       "      <th>...</th>\n",
       "      <th>rates.XCD</th>\n",
       "      <th>rates.XDR</th>\n",
       "      <th>rates.XOF</th>\n",
       "      <th>rates.XPD</th>\n",
       "      <th>rates.XPF</th>\n",
       "      <th>rates.XPT</th>\n",
       "      <th>rates.YER</th>\n",
       "      <th>rates.ZAR</th>\n",
       "      <th>rates.ZMW</th>\n",
       "      <th>rates.ZWL</th>\n",
       "    </tr>\n",
       "  </thead>\n",
       "  <tbody>\n",
       "    <tr>\n",
       "      <th>0</th>\n",
       "      <td>Usage subject to terms: https://openexchangera...</td>\n",
       "      <td>https://openexchangerates.org/license</td>\n",
       "      <td>1714766400</td>\n",
       "      <td>USD</td>\n",
       "      <td>3.67285</td>\n",
       "      <td>72.325815</td>\n",
       "      <td>93.5</td>\n",
       "      <td>387.814629</td>\n",
       "      <td>1.801552</td>\n",
       "      <td>837.5</td>\n",
       "      <td>...</td>\n",
       "      <td>2.70255</td>\n",
       "      <td>0.758709</td>\n",
       "      <td>609.389428</td>\n",
       "      <td>0.001059</td>\n",
       "      <td>110.860166</td>\n",
       "      <td>0.001048</td>\n",
       "      <td>250.349961</td>\n",
       "      <td>18.51255</td>\n",
       "      <td>26.963907</td>\n",
       "      <td>322</td>\n",
       "    </tr>\n",
       "  </tbody>\n",
       "</table>\n",
       "<p>1 rows × 173 columns</p>\n",
       "</div>"
      ],
      "text/plain": [
       "                                          disclaimer  \\\n",
       "0  Usage subject to terms: https://openexchangera...   \n",
       "\n",
       "                                 license   timestamp base  rates.AED  \\\n",
       "0  https://openexchangerates.org/license  1714766400  USD    3.67285   \n",
       "\n",
       "   rates.AFN  rates.ALL   rates.AMD  rates.ANG  rates.AOA  ...  rates.XCD  \\\n",
       "0  72.325815       93.5  387.814629   1.801552      837.5  ...    2.70255   \n",
       "\n",
       "   rates.XDR   rates.XOF  rates.XPD   rates.XPF  rates.XPT   rates.YER  \\\n",
       "0   0.758709  609.389428   0.001059  110.860166   0.001048  250.349961   \n",
       "\n",
       "   rates.ZAR  rates.ZMW  rates.ZWL  \n",
       "0   18.51255  26.963907        322  \n",
       "\n",
       "[1 rows x 173 columns]"
      ]
     },
     "execution_count": 2,
     "metadata": {},
     "output_type": "execute_result"
    }
   ],
   "source": [
    "response = requests.get(\"https://openexchangerates.org/api/latest.json\", params={\"app_id\": \"da8068e5517348edb53748c95e49e4c2\"})\n",
    "\n",
    "data = response.json()\n",
    "\n",
    "df = pd.json_normalize(data)\n",
    "df"
   ]
  },
  {
   "cell_type": "code",
   "execution_count": 3,
   "id": "cdabe49a",
   "metadata": {},
   "outputs": [],
   "source": [
    "df = df.loc[: , [\"timestamp\", \"base\", \"rates.EGP\"]]"
   ]
  },
  {
   "cell_type": "code",
   "execution_count": 4,
   "id": "f88ba23c",
   "metadata": {},
   "outputs": [],
   "source": [
    "df = df.rename(columns={\"rates.EGP\": \"EGP\"})"
   ]
  },
  {
   "cell_type": "code",
   "execution_count": 5,
   "id": "74af9031",
   "metadata": {},
   "outputs": [],
   "source": [
    "df['Extraction_Date_Time'] = pd.Timestamp.now()\n",
    "df[\"Source\"] = \"API\""
   ]
  },
  {
   "cell_type": "code",
   "execution_count": 6,
   "id": "fcfd264e",
   "metadata": {},
   "outputs": [
    {
     "data": {
      "text/html": [
       "<div>\n",
       "<style scoped>\n",
       "    .dataframe tbody tr th:only-of-type {\n",
       "        vertical-align: middle;\n",
       "    }\n",
       "\n",
       "    .dataframe tbody tr th {\n",
       "        vertical-align: top;\n",
       "    }\n",
       "\n",
       "    .dataframe thead th {\n",
       "        text-align: right;\n",
       "    }\n",
       "</style>\n",
       "<table border=\"1\" class=\"dataframe\">\n",
       "  <thead>\n",
       "    <tr style=\"text-align: right;\">\n",
       "      <th></th>\n",
       "      <th>timestamp</th>\n",
       "      <th>base</th>\n",
       "      <th>EGP</th>\n",
       "      <th>Extraction_Date_Time</th>\n",
       "      <th>Source</th>\n",
       "    </tr>\n",
       "  </thead>\n",
       "  <tbody>\n",
       "    <tr>\n",
       "      <th>0</th>\n",
       "      <td>1714766400</td>\n",
       "      <td>USD</td>\n",
       "      <td>47.9492</td>\n",
       "      <td>2024-05-03 23:35:41.990600</td>\n",
       "      <td>API</td>\n",
       "    </tr>\n",
       "  </tbody>\n",
       "</table>\n",
       "</div>"
      ],
      "text/plain": [
       "    timestamp base      EGP       Extraction_Date_Time Source\n",
       "0  1714766400  USD  47.9492 2024-05-03 23:35:41.990600    API"
      ]
     },
     "execution_count": 6,
     "metadata": {},
     "output_type": "execute_result"
    }
   ],
   "source": [
    "df"
   ]
  },
  {
   "cell_type": "code",
   "execution_count": 7,
   "id": "10978691",
   "metadata": {},
   "outputs": [],
   "source": [
    "file_path = 'Landing/exchange/exchange.csv'\n",
    "\n",
    "os.makedirs(os.path.dirname(file_path), exist_ok=True)\n",
    "df.to_csv(file_path, index = False) "
   ]
  },
  {
   "cell_type": "code",
   "execution_count": null,
   "id": "45a48df7",
   "metadata": {},
   "outputs": [],
   "source": []
  }
 ],
 "metadata": {
  "kernelspec": {
   "display_name": "Python 3 (ipykernel)",
   "language": "python",
   "name": "python3"
  },
  "language_info": {
   "codemirror_mode": {
    "name": "ipython",
    "version": 3
   },
   "file_extension": ".py",
   "mimetype": "text/x-python",
   "name": "python",
   "nbconvert_exporter": "python",
   "pygments_lexer": "ipython3",
   "version": "3.9.12"
  }
 },
 "nbformat": 4,
 "nbformat_minor": 5
}
