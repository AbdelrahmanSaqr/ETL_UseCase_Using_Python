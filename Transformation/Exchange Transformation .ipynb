{
 "cells": [
  {
   "cell_type": "code",
   "execution_count": 1,
   "id": "fcc996c0",
   "metadata": {},
   "outputs": [],
   "source": [
    "import pandas as pd\n",
    "import os"
   ]
  },
  {
   "cell_type": "code",
   "execution_count": 2,
   "id": "45e09974",
   "metadata": {},
   "outputs": [
    {
     "data": {
      "text/html": [
       "<div>\n",
       "<style scoped>\n",
       "    .dataframe tbody tr th:only-of-type {\n",
       "        vertical-align: middle;\n",
       "    }\n",
       "\n",
       "    .dataframe tbody tr th {\n",
       "        vertical-align: top;\n",
       "    }\n",
       "\n",
       "    .dataframe thead th {\n",
       "        text-align: right;\n",
       "    }\n",
       "</style>\n",
       "<table border=\"1\" class=\"dataframe\">\n",
       "  <thead>\n",
       "    <tr style=\"text-align: right;\">\n",
       "      <th></th>\n",
       "      <th>timestamp</th>\n",
       "      <th>base</th>\n",
       "      <th>EGP</th>\n",
       "      <th>Extraction_Date_Time</th>\n",
       "      <th>Source</th>\n",
       "    </tr>\n",
       "  </thead>\n",
       "  <tbody>\n",
       "    <tr>\n",
       "      <th>0</th>\n",
       "      <td>1714766400</td>\n",
       "      <td>USD</td>\n",
       "      <td>47.9492</td>\n",
       "      <td>2024-05-03 23:35:41.990600</td>\n",
       "      <td>API</td>\n",
       "    </tr>\n",
       "  </tbody>\n",
       "</table>\n",
       "</div>"
      ],
      "text/plain": [
       "    timestamp base      EGP        Extraction_Date_Time Source\n",
       "0  1714766400  USD  47.9492  2024-05-03 23:35:41.990600    API"
      ]
     },
     "execution_count": 2,
     "metadata": {},
     "output_type": "execute_result"
    }
   ],
   "source": [
    "exchange = pd.read_csv('../staging_1/exchange/exchange.csv')\n",
    "exchange"
   ]
  },
  {
   "cell_type": "code",
   "execution_count": 3,
   "id": "2c92ca6d",
   "metadata": {},
   "outputs": [],
   "source": [
    "file_path = '../Staging_2/exchange/exchange.csv'\n",
    "\n",
    "os.makedirs(os.path.dirname(file_path), exist_ok=True)\n",
    "exchange.to_csv(file_path, index = False) "
   ]
  },
  {
   "cell_type": "code",
   "execution_count": null,
   "id": "76bea929",
   "metadata": {},
   "outputs": [],
   "source": []
  }
 ],
 "metadata": {
  "kernelspec": {
   "display_name": "Python 3 (ipykernel)",
   "language": "python",
   "name": "python3"
  },
  "language_info": {
   "codemirror_mode": {
    "name": "ipython",
    "version": 3
   },
   "file_extension": ".py",
   "mimetype": "text/x-python",
   "name": "python",
   "nbconvert_exporter": "python",
   "pygments_lexer": "ipython3",
   "version": "3.9.12"
  }
 },
 "nbformat": 4,
 "nbformat_minor": 5
}
